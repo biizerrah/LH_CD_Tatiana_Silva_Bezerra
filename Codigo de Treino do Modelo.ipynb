{
 "cells": [
  {
   "cell_type": "code",
   "execution_count": 14,
   "id": "e9e09789-ac2e-4f73-9d3e-ad76c854c923",
   "metadata": {
    "id": "e9e09789-ac2e-4f73-9d3e-ad76c854c923"
   },
   "outputs": [],
   "source": [
    "import pandas as pd"
   ]
  },
  {
   "cell_type": "code",
   "execution_count": 2,
   "id": "85adb2a3-7b1c-46c6-a4dd-9f01f43617d1",
   "metadata": {
    "id": "85adb2a3-7b1c-46c6-a4dd-9f01f43617d1"
   },
   "outputs": [],
   "source": [
    "base = pd.read_csv('C:/Users/biize/Downloads/Indicim - DataScience/desafio_indicium_imdb.csv')"
   ]
  },
  {
   "cell_type": "code",
   "execution_count": 3,
   "id": "d013b78b-2ad5-48be-9aa0-0223c77b59fb",
   "metadata": {
    "id": "d013b78b-2ad5-48be-9aa0-0223c77b59fb"
   },
   "outputs": [],
   "source": [
    "base.drop('Unnamed: 0', axis=1,inplace=True)"
   ]
  },
  {
   "cell_type": "code",
   "execution_count": 4,
   "id": "dcacd9fe-b72c-4a60-b6c2-d32f2c6b97eb",
   "metadata": {
    "id": "dcacd9fe-b72c-4a60-b6c2-d32f2c6b97eb"
   },
   "outputs": [],
   "source": [
    "base = base[base['Released_Year'] != 'PG']\n",
    "base['Released_Year'] = base['Released_Year'].astype(int)"
   ]
  },
  {
   "cell_type": "code",
   "execution_count": 5,
   "id": "504923db-3b90-42a6-9a4c-b9c7e0882986",
   "metadata": {
    "id": "504923db-3b90-42a6-9a4c-b9c7e0882986"
   },
   "outputs": [],
   "source": [
    "base['Gross'] = base['Gross'].str.replace(r'[^0-9]','',regex=True)\n",
    "base['Gross'] = base['Gross'].astype(float)"
   ]
  },
  {
   "cell_type": "code",
   "execution_count": 6,
   "id": "b4a00ceb-c258-429d-bf18-26ee1ccc6206",
   "metadata": {
    "id": "b4a00ceb-c258-429d-bf18-26ee1ccc6206"
   },
   "outputs": [],
   "source": [
    "base['Gross'] = base['Gross'].fillna(base['Gross'].median())\n",
    "base['Meta_score'] = base['Meta_score'].fillna(base['Meta_score'].median())"
   ]
  },
  {
   "cell_type": "code",
   "execution_count": 7,
   "id": "6c512696-2443-4c8a-9483-b9dc2d66fd84",
   "metadata": {
    "id": "6c512696-2443-4c8a-9483-b9dc2d66fd84"
   },
   "outputs": [],
   "source": [
    "base['Runtime'] = base['Runtime'].str.replace(r'[^0-9]','', regex=True) \n",
    "base['Runtime'] = base['Runtime'].astype(int)\n",
    "base.rename(columns={'Runtime':'Runtime_Min'},inplace=True) "
   ]
  },
  {
   "cell_type": "code",
   "execution_count": 8,
   "id": "dcae97f9-791c-4ae5-8810-6492a3698e75",
   "metadata": {},
   "outputs": [],
   "source": [
    "novo_filme = [{\n",
    "'Series_Title': 'The Shawshank Redemption', \n",
    "'Released_Year': '1994', \n",
    "'Certificate': 'A', \n",
    "'Runtime': '142 min', \n",
    "'Genre': 'Drama', \n",
    "'Overview': 'Two imprisoned men bond over a number of years, finding solace and eventual redemption through acts of common decency.', \n",
    "'Meta_score': 80.0, \n",
    "'Director': 'Frank Darabont', \n",
    "'Star1': 'Tim Robbins', \n",
    "'Star2': 'Morgan Freeman', \n",
    "'Star3': 'Bob Gunton', \n",
    "'Star4': 'William Sadler', \n",
    "'No_of_Votes': 2343110, \n",
    "'Gross': '28,341,469'}] \n",
    "\n",
    "df = pd.DataFrame(novo_filme)\n",
    "df['Runtime'] = df['Runtime'].str.replace(r'[^0-9]','', regex=True) \n",
    "df['Runtime'] = df['Runtime'].astype(int)\n",
    "df.rename(columns={'Runtime':'Runtime_Min'},inplace=True) \n",
    "df['Released_Year'] = df['Released_Year'].astype(int)\n",
    "df['Gross'] = df['Gross'].str.replace(r'[^0-9]','',regex=True)\n",
    "df['Gross'] = df['Gross'].astype(float)"
   ]
  },
  {
   "cell_type": "code",
   "execution_count": 9,
   "id": "9048a344-1352-4df7-8d43-f6bcaf2a6990",
   "metadata": {},
   "outputs": [],
   "source": [
    "y = base['IMDB_Rating']\n",
    "X = base[['Released_Year','Runtime_Min','Meta_score','No_of_Votes','Gross']]\n",
    "df_novo_filme = df[['Released_Year','Runtime_Min','Meta_score','No_of_Votes','Gross']]"
   ]
  },
  {
   "cell_type": "code",
   "execution_count": 10,
   "id": "8ac43da6-a1fb-4583-af4b-14fffd6eb532",
   "metadata": {},
   "outputs": [],
   "source": [
    "from sklearn.model_selection import train_test_split \n",
    "          \n",
    "x_treino,x_teste,y_treino,y_teste = train_test_split(X,y)"
   ]
  },
  {
   "cell_type": "code",
   "execution_count": 11,
   "id": "5f16212e-2fb0-4f74-bbc0-45ccd123768e",
   "metadata": {},
   "outputs": [],
   "source": [
    "from sklearn import linear_model\n",
    "\n",
    "regressao_linear = linear_model.LinearRegression()\n",
    "\n",
    "regressao_linear.fit(x_treino,y_treino)\n",
    "nota_regressao = regressao_linear.predict(x_teste)"
   ]
  },
  {
   "cell_type": "code",
   "execution_count": 12,
   "id": "d8c2de1f-a3ee-49b1-87db-4bddfe72c2b6",
   "metadata": {
    "id": "c89e47d5-f837-4527-aee8-945bf2d61d2b"
   },
   "outputs": [],
   "source": [
    "from sklearn.metrics import r2_score\n",
    "\n",
    "metrica_r2_linear = r2_score(y_teste,nota_regressao)"
   ]
  },
  {
   "cell_type": "raw",
   "id": "707b975b-2859-4024-a951-5011ac1130f6",
   "metadata": {
    "vscode": {
     "languageId": "raw"
    }
   },
   "source": [
    "Para essa previsão eu escolhi originalmente as colunas: Released_Year,Runtime_Min e Meta_score para que pudessem ser usadas no treinamento dos modelos as transformando em variaveis númericas, visto que os modelos geralmente trabalham com números. A coluna que originalmente se chamava Runtime que apresentava a duração do filme em formato de string foi convertida para um número inteiro e por questões de clareza decidi mudar o nome para Runtime_Min, indicando a duração em minutos.\n",
    "\n",
    "O problema que estamos resolvendo é de REGRESSÃO, pois queremos prever um valor númerico, que é a nota IMDb de um filme.\n",
    "\n",
    "Entre os modelos que testei (Huber Regressor, Árvore de Decisão e Regressão Linear) o que teve a melhor performance foi o modelo de Regressão Linear, \n",
    "entendendo mais de 40% das variações das notas, enquanto os outros não entendiam nem 20%. A Regressão Linear apresentou essa performance após a adição das colunas No_of_Votes e Gross.\n",
    "\n",
    "O modelo de Regressão Linear é um modelo mais simples e muito claro, ajudando até mesmo a entender quais colunas podem ser mais importantes para começar uma analise usando o coef_. Seu treinamento é rápido por ser mais simples. \n",
    "\n",
    "Porém, justamente por ser um modelo mais simples, pode não performar bem com dados mais complexos bem como outliers, que são valores extremos(para baixo ou para cima).\n",
    "\n",
    "O r2_score é mais completo na análise e resultado é melhor e mais claro de se interpretar. "
   ]
  },
  {
   "cell_type": "code",
   "execution_count": 16,
   "id": "5be0bbfb-bc89-4863-8edc-a2d6c8cb8fe9",
   "metadata": {},
   "outputs": [
    {
     "name": "stdout",
     "output_type": "stream",
     "text": [
      "A nota IMDb prevista para o filme \"The Shawshank Redemption\" é de:  9.18\n"
     ]
    }
   ],
   "source": [
    "nota_prevista_IMDb = regressao_linear.predict(df_novo_filme).round(2)\n",
    "\n",
    "print('A nota IMDb prevista para o filme \"The Shawshank Redemption\" é de: ',nota_prevista_IMDb[0])"
   ]
  }
 ],
 "metadata": {
  "colab": {
   "provenance": []
  },
  "kernelspec": {
   "display_name": "base",
   "language": "python",
   "name": "python3"
  },
  "language_info": {
   "codemirror_mode": {
    "name": "ipython",
    "version": 3
   },
   "file_extension": ".py",
   "mimetype": "text/x-python",
   "name": "python",
   "nbconvert_exporter": "python",
   "pygments_lexer": "ipython3",
   "version": "3.13.5"
  }
 },
 "nbformat": 4,
 "nbformat_minor": 5
}
